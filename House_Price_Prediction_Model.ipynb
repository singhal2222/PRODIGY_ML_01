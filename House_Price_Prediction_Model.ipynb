{
  "nbformat": 4,
  "nbformat_minor": 0,
  "metadata": {
    "colab": {
      "provenance": []
    },
    "kernelspec": {
      "name": "python3",
      "display_name": "Python 3"
    },
    "language_info": {
      "name": "python"
    }
  },
  "cells": [
    {
      "cell_type": "code",
      "source": [
        "import pandas as pd\n",
        "import numpy as np\n",
        "from sklearn.model_selection import train_test_split\n",
        "from sklearn.preprocessing import StandardScaler\n",
        "from sklearn.linear_model import LinearRegression, Ridge, Lasso\n",
        "from sklearn.metrics import mean_squared_error\n",
        "from sklearn.impute import SimpleImputer\n",
        "from sklearn.ensemble import RandomForestRegressor, GradientBoostingRegressor\n",
        "from sklearn.model_selection import GridSearchCV\n",
        "\n",
        "train_data = pd.read_csv('train.csv')\n",
        "test_data = pd.read_csv('test.csv')\n",
        "\n",
        "neighborhood_quality = {\n",
        "    'NAmes': 5, 'CollgCr': 7, 'OldTown': 4, 'Edwards': 6, 'Somerst': 8, 'NridgHt': 9, 'Sawyer': 5, 'Mitchel': 6\n",
        "}\n",
        "\n",
        "train_data['NeighborhoodQuality'] = train_data['Neighborhood'].map(neighborhood_quality)\n",
        "test_data['NeighborhoodQuality'] = test_data['Neighborhood'].map(neighborhood_quality)\n",
        "\n",
        "features = ['GrLivArea', 'BedroomAbvGr', 'FullBath', 'TotalBsmtSF', '1stFlrSF', '2ndFlrSF', 'GarageCars', 'GarageArea',\n",
        "            'YearBuilt', 'YearRemodAdd', 'LotArea', 'Fireplaces', 'MasVnrArea', 'BsmtFinSF1', 'NeighborhoodQuality']\n",
        "\n",
        "X = train_data[features]\n",
        "y = train_data['SalePrice']\n",
        "X_test = test_data[features]\n",
        "\n",
        "imputer = SimpleImputer(strategy='mean')\n",
        "X = pd.DataFrame(imputer.fit_transform(X), columns=features)\n",
        "X_test = pd.DataFrame(imputer.transform(X_test), columns=features)\n",
        "\n",
        "scaler = StandardScaler()\n",
        "X_scaled = scaler.fit_transform(X)\n",
        "X_test_scaled = scaler.transform(X_test)\n",
        "\n",
        "X_train, X_valid, y_train, y_valid = train_test_split(X_scaled, y, test_size=0.2, random_state=42)\n",
        "\n",
        "models = {\n",
        "    'Linear Regression': LinearRegression(),\n",
        "    'Ridge Regression': Ridge(alpha=1.0),\n",
        "    'Lasso Regression': Lasso(alpha=0.1, max_iter=10000),\n",
        "    'Random Forest': RandomForestRegressor(n_estimators=100, random_state=42),\n",
        "    'Gradient Boosting': GradientBoostingRegressor(n_estimators=100, learning_rate=0.1, random_state=42)\n",
        "}\n",
        "\n",
        "for name, model in models.items():\n",
        "    model.fit(X_train, y_train)\n",
        "    y_pred = model.predict(X_valid)\n",
        "    mse = mean_squared_error(y_valid, y_pred)\n",
        "    print(f'{name} Mean Squared Error: {mse}')\n",
        "\n",
        "best_model = GradientBoostingRegressor(n_estimators=100, learning_rate=0.1, random_state=42)\n",
        "best_model.fit(X_train, y_train)\n",
        "\n",
        "test_predictions = best_model.predict(X_test_scaled)\n",
        "submission = pd.DataFrame({'Id': test_data['Id'], 'SalePrice': test_predictions})\n",
        "submission.to_csv('submission.csv', index=False)\n"
      ],
      "metadata": {
        "colab": {
          "base_uri": "https://localhost:8080/"
        },
        "id": "MvaZrH677_fU",
        "outputId": "75a19274-905d-4e8f-a514-09444ebb0b9b"
      },
      "execution_count": 20,
      "outputs": [
        {
          "output_type": "stream",
          "name": "stdout",
          "text": [
            "Linear Regression Mean Squared Error: 1542762877.2743092\n",
            "Ridge Regression Mean Squared Error: 1542496805.5189278\n",
            "Lasso Regression Mean Squared Error: 1542768479.9953063\n",
            "Random Forest Mean Squared Error: 884865297.4077332\n",
            "Gradient Boosting Mean Squared Error: 819480224.9144384\n"
          ]
        }
      ]
    }
  ]
}